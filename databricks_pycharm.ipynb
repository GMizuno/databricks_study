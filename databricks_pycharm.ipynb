{
 "cells": [
  {
   "cell_type": "code",
   "execution_count": null,
   "id": "initial_id",
   "metadata": {
    "collapsed": true
   },
   "outputs": [],
   "source": "from pyspark.sql.functions import col"
  },
  {
   "metadata": {},
   "cell_type": "code",
   "outputs": [],
   "execution_count": null,
   "source": [
    "df_pedidos = spark.read.format(\"parquet\").load(\"gs://estudo_basico/pedidos/*\")\n",
    "df_entregas = spark.read.option(\"multiline\", \"true\").format(\"json\").load(\"gs://estudo_basico/entregas/*\")\n",
    "df_lojas = spark.read.option(\"multiline\", \"true\").format(\"json\").load(\"gs://estudo_basico/lojas/*\")"
   ],
   "id": "aefacb01e919ccdb"
  },
  {
   "metadata": {
    "ExecuteTime": {
     "end_time": "2025-04-19T21:29:54.075037Z",
     "start_time": "2025-04-19T21:29:53.980997Z"
    }
   },
   "cell_type": "code",
   "source": [
    "df_entregas = df_entregas.filter(df_entregas[\"entrega_id\"].isNotNull())\n",
    "display(df_entregas)"
   ],
   "id": "f9ccbf7940ac3f5e",
   "outputs": [
    {
     "ename": "NameError",
     "evalue": "name 'df_entregas' is not defined",
     "output_type": "error",
     "traceback": [
      "\u001B[31m---------------------------------------------------------------------------\u001B[39m",
      "\u001B[31mNameError\u001B[39m                                 Traceback (most recent call last)",
      "\u001B[36mCell\u001B[39m\u001B[36m \u001B[39m\u001B[32mIn[1]\u001B[39m\u001B[32m, line 1\u001B[39m\n\u001B[32m----> \u001B[39m\u001B[32m1\u001B[39m df_entregas = \u001B[43mdf_entregas\u001B[49m.filter(df_entregas[\u001B[33m\"\u001B[39m\u001B[33mentrega_id\u001B[39m\u001B[33m\"\u001B[39m].isNotNull())\n\u001B[32m      2\u001B[39m display(df_entregas)\n",
      "\u001B[31mNameError\u001B[39m: name 'df_entregas' is not defined"
     ]
    }
   ],
   "execution_count": 1
  },
  {
   "metadata": {},
   "cell_type": "code",
   "outputs": [],
   "execution_count": null,
   "source": "df_pedidos.printSchema()",
   "id": "2ad0d2b44132dbd3"
  }
 ],
 "metadata": {
  "kernelspec": {
   "display_name": "Python 3",
   "language": "python",
   "name": "python3"
  },
  "language_info": {
   "codemirror_mode": {
    "name": "ipython",
    "version": 2
   },
   "file_extension": ".py",
   "mimetype": "text/x-python",
   "name": "python",
   "nbconvert_exporter": "python",
   "pygments_lexer": "ipython2",
   "version": "2.7.6"
  }
 },
 "nbformat": 4,
 "nbformat_minor": 5
}
